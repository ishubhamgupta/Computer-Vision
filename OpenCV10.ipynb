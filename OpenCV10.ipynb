{
 "cells": [
  {
   "cell_type": "markdown",
   "metadata": {},
   "source": [
    "## Arithmetic Operations\n",
    "\n",
    "These are simple operations that allow us to directly add or subract to the color intensity.\n",
    "\n",
    "Calculates the per-element operation of two arrays. The overall effect is increasing or decreasing brightness."
   ]
  },
  {
   "cell_type": "code",
   "execution_count": null,
   "metadata": {},
   "outputs": [],
   "source": [
    "import cv2\n",
    "import numpy as np\n",
    "\n",
    "image = cv2.imread('./Downloads/sample1.jpg')\n",
    "\n",
    "# Creating a matrix of ones, then multiply it by a scaler of 100 \n",
    "# This gives us a matrix with same dimesions of our image with all values being 100\n",
    "M = np.ones(image.shape, dtype = \"uint8\") * 100 \n",
    "\n",
    "# Now, we use this to add this matrix M, to our image\n",
    "# We will notice the increase in brightness\n",
    "added = cv2.add(image, M)\n",
    "cv2.imshow(\"With Added Brightness\", added)\n",
    "cv2.waitKey(0)\n",
    "\n",
    "\n",
    "# We can also decrease the brightness\n",
    "subtracted = cv2.subtract(image, M)\n",
    "cv2.imshow(\"With Subtracted Brightness\", subtracted)\n",
    "\n",
    "cv2.waitKey(0)\n",
    "cv2.destroyAllWindows()"
   ]
  }
 ],
 "metadata": {
  "kernelspec": {
   "display_name": "Python OCV4",
   "language": "python",
   "name": "ocv4"
  },
  "language_info": {
   "codemirror_mode": {
    "name": "ipython",
    "version": 3
   },
   "file_extension": ".py",
   "mimetype": "text/x-python",
   "name": "python",
   "nbconvert_exporter": "python",
   "pygments_lexer": "ipython3",
   "version": "3.5.2"
  }
 },
 "nbformat": 4,
 "nbformat_minor": 1
}
