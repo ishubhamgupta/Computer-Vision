{
 "cells": [
  {
   "cell_type": "markdown",
   "metadata": {},
   "source": [
    "# **Hello World of Open CV**"
   ]
  },
  {
   "cell_type": "code",
   "execution_count": null,
   "metadata": {},
   "outputs": [],
   "source": [
    "# Here we will be importing the necessary files for read, write, display and save an image\n",
    "import cv2\n",
    "import numpy as np"
   ]
  },
  {
   "cell_type": "code",
   "execution_count": null,
   "metadata": {},
   "outputs": [],
   "source": [
    "#Loading an image \n",
    "\n",
    "input_data = cv2.imread('./Downloads/sample1.jpg')\n",
    "\n",
    "# Note: Please be careful while giving the path, and follow proper syntax"
   ]
  },
  {
   "cell_type": "code",
   "execution_count": null,
   "metadata": {},
   "outputs": [],
   "source": [
    "#To show our loaded image\n",
    "\n",
    "cv2.imshow('Our Input Image',input_data)\n",
    "cv2.waitKey()\n",
    "cv2.destroyAllWindows()"
   ]
  },
  {
   "cell_type": "markdown",
   "metadata": {},
   "source": [
    "The function **waitKey** waits for a key event infinitely (when ) or for delay milliseconds, when it is positive. Since the OS has a minimum time between switching threads, the function will not wait exactly delay ms, it will wait at least delay ms, depending on what else is running on your computer at that time.\n",
    "https://docs.opencv.org/2.4/modules/highgui/doc/user_interface.html?highlight=waitkey"
   ]
  },
  {
   "cell_type": "markdown",
   "metadata": {},
   "source": [
    "**destroyAllWindows**, this closes all open windows. Failure to place this will cause our program to hang"
   ]
  },
  {
   "cell_type": "code",
   "execution_count": null,
   "metadata": {},
   "outputs": [],
   "source": [
    "# To check how images are actually stored in System / OpenCv\n",
    "\n",
    "print(input_data.shape)"
   ]
  },
  {
   "cell_type": "markdown",
   "metadata": {},
   "source": [
    "#### Shape gives the dimensions of the image array\n",
    "\n",
    "The 2D dimensions are 360 pixels in high and 640 pixels wide.\n",
    "The **'3'** means that there are 3 other components (RGB) that make up this image."
   ]
  },
  {
   "cell_type": "code",
   "execution_count": null,
   "metadata": {},
   "outputs": [],
   "source": [
    "# To print the dimension of Image\n",
    "\n",
    "print('Height of Image is ', int(input_data.shape[0]), 'pixels')\n",
    "print('Width of Image is ', int(input_data.shape[1]), 'pixels')"
   ]
  },
  {
   "cell_type": "code",
   "execution_count": null,
   "metadata": {},
   "outputs": [],
   "source": [
    "# Saving an Image\n",
    "\n",
    "cv2.imwrite('sample1_output.jpg', input_data)\n",
    "cv2.imwrite('sample1_output.png', input_data)\n",
    "\n",
    "# We can save an image in whichever format we want to save as per our requirement"
   ]
  },
  {
   "cell_type": "markdown",
   "metadata": {},
   "source": [
    "Since the result comes out to be **True** this means tht our opperation was succesful."
   ]
  }
 ],
 "metadata": {
  "kernelspec": {
   "display_name": "Python OCV4",
   "language": "python",
   "name": "ocv4"
  },
  "language_info": {
   "codemirror_mode": {
    "name": "ipython",
    "version": 3
   },
   "file_extension": ".py",
   "mimetype": "text/x-python",
   "name": "python",
   "nbconvert_exporter": "python",
   "pygments_lexer": "ipython3",
   "version": "3.5.2"
  }
 },
 "nbformat": 4,
 "nbformat_minor": 2
}
