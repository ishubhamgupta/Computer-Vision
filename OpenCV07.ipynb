{
 "cells": [
  {
   "cell_type": "markdown",
   "metadata": {},
   "source": [
    "## Scaling, re-sizing and interpolations\n",
    "\n",
    "Re-sizing is very easy using the cv2.resize function, it's arguments are:\n",
    "\n",
    "cv2.resize(image, dsize(output image size), x scale, y scale, interpolation)\n"
   ]
  },
  {
   "cell_type": "code",
   "execution_count": 1,
   "metadata": {},
   "outputs": [],
   "source": [
    "import cv2\n",
    "import numpy as np\n",
    "\n",
    "# loading our input image\n",
    "image = cv2.imread('./Downloads/sample1.jpg')\n",
    "\n",
    "\n",
    "# We'll make our image 3/4 of it's original size\n",
    "# Fx and Fy are the factors through which we will scale\n",
    "image_scaled = cv2.resize(image, None, fx=0.75, fy=0.75)\n",
    "cv2.imshow('Scaling - Linear Interpolation', image_scaled) \n",
    "# By default it uses Linear Interpolation\n",
    "cv2.waitKey()\n",
    "\n",
    "\n",
    "# Now, we will double the size of our image\n",
    "img_scaled = cv2.resize(image, None, fx=2, fy=2, interpolation = cv2.INTER_CUBIC)\n",
    "cv2.imshow('Scaling - Cubic Interpolation', img_scaled)\n",
    "cv2.waitKey()\n",
    "\n",
    "# Now we will skew the re-sizing by setting exact dimensions\n",
    "img_scaled = cv2.resize(image, (900, 400), interpolation = cv2.INTER_AREA)\n",
    "cv2.imshow('Scaling - Skewed Size', img_scaled) \n",
    "cv2.waitKey()\n",
    "\n",
    "cv2.destroyAllWindows()"
   ]
  },
  {
   "cell_type": "markdown",
   "metadata": {},
   "source": [
    "INTER_NEAREST - a nearest-neighbor interpolation\n",
    "\n",
    "INTER_LINEAR - a bilinear interpolation (used by default)\n",
    "\n",
    "INTER_AREA - resampling using pixel area relation. It may be a preferred method for image decimation, as it gives moire’-free results. But when the image is zoomed, it is similar to the INTER_NEAREST method.\n",
    "\n",
    "INTER_CUBIC - a bicubic interpolation over 4x4 pixel neighborhood\n",
    "\n",
    "INTER_LANCZOS4 - a Lanczos interpolation over 8x8 pixel neighborhood "
   ]
  }
 ],
 "metadata": {
  "kernelspec": {
   "display_name": "Python OCV4",
   "language": "python",
   "name": "ocv4"
  },
  "language_info": {
   "codemirror_mode": {
    "name": "ipython",
    "version": 3
   },
   "file_extension": ".py",
   "mimetype": "text/x-python",
   "name": "python",
   "nbconvert_exporter": "python",
   "pygments_lexer": "ipython3",
   "version": "3.5.2"
  }
 },
 "nbformat": 4,
 "nbformat_minor": 1
}
