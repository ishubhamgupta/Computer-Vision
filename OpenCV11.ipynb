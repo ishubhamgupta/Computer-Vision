{
 "cells": [
  {
   "cell_type": "markdown",
   "metadata": {},
   "source": [
    "## Bitwise Operations and Masking\n",
    "\n",
    "To demonstrate these operations let's create some simple images"
   ]
  },
  {
   "cell_type": "code",
   "execution_count": 10,
   "metadata": {},
   "outputs": [],
   "source": [
    "import cv2\n",
    "import numpy as np\n",
    "\n",
    "# Here we are working with grey scale image \n",
    "# For making a square\n",
    "square = np.zeros((300, 300), np.uint8)\n",
    "\n",
    "# rectangle(img, pt1, pt2, color[, thickness[, lineType[, shift]]])\n",
    "cv2.rectangle(square, (50, 50), (250, 250), 255, -2)\n",
    "\n",
    "cv2.imshow(\"The requied Square image\", square)\n",
    "cv2.waitKey(0)\n",
    "# for working with a colored image, we will rather use\n",
    "# rectangle = np.zeros((300, 300, 3),np.uint8)\n",
    "\n",
    "\n",
    "# Making a ellipse / hemisphere\n",
    "ellipse = np.zeros((300, 300), np.uint8)\n",
    "\n",
    "# ellipse(img, center, axes, angle, startAngle, endAngle, color[, thickness])\n",
    "cv2.ellipse(ellipse, (150, 150), (150, 150), 30, 0, 180, 255, -1)\n",
    "\n",
    "cv2.imshow(\"The required Ellipse image\", ellipse)\n",
    "cv2.waitKey(0)\n",
    "\n",
    "cv2.destroyAllWindows()"
   ]
  },
  {
   "cell_type": "markdown",
   "metadata": {},
   "source": [
    "### Performing Bitwise operations"
   ]
  },
  {
   "cell_type": "code",
   "execution_count": 11,
   "metadata": {},
   "outputs": [],
   "source": [
    "# When we apply AND gate it will only show where they'll intersect\n",
    "And = cv2.bitwise_and(square, ellipse)\n",
    "# Calculates the per-element bit-wise conjunction of two arrays or an array and a scalar.\n",
    "cv2.imshow(\"AND\", And)\n",
    "cv2.waitKey(0)\n",
    "\n",
    "# Shows where either square or ellipse is \n",
    "bitwiseOr = cv2.bitwise_or(square, ellipse)\n",
    "# Calculates the per-element bit-wise disjunction of two arrays or an array and a scalar.\n",
    "cv2.imshow(\"OR\", bitwiseOr)\n",
    "cv2.waitKey(0) \n",
    "\n",
    "# Shows where either exist by itself\n",
    "bitwiseXor = cv2.bitwise_xor(square, ellipse)\n",
    "# Calculates the per-element bit-wise \"exclusive or\" operation on two arrays or an array and a scalar.\n",
    "cv2.imshow(\"XOR\", bitwiseXor)\n",
    "cv2.waitKey(0)\n",
    "\n",
    "# Shows everything that isn't part of the square\n",
    "bitwiseNot_sq = cv2.bitwise_not(square)\n",
    "cv2.imshow(\"NOT - square\", bitwiseNot_sq)\n",
    "cv2.waitKey(0)\n",
    "\n",
    "### Notice the last operation inverts the image totally\n",
    "\n",
    "cv2.destroyAllWindows()"
   ]
  },
  {
   "cell_type": "code",
   "execution_count": null,
   "metadata": {
    "collapsed": true
   },
   "outputs": [],
   "source": [
    "\n",
    "\n",
    "\n",
    "\n",
    "\n"
   ]
  }
 ],
 "metadata": {
  "kernelspec": {
   "display_name": "Python 3",
   "language": "python",
   "name": "python3"
  },
  "language_info": {
   "codemirror_mode": {
    "name": "ipython",
    "version": 3
   },
   "file_extension": ".py",
   "mimetype": "text/x-python",
   "name": "python",
   "nbconvert_exporter": "python",
   "pygments_lexer": "ipython3",
   "version": "3.5.2"
  }
 },
 "nbformat": 4,
 "nbformat_minor": 1
}
